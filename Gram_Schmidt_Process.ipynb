{
  "nbformat": 4,
  "nbformat_minor": 0,
  "metadata": {
    "colab": {
      "name": "Gram Schmidt Process.ipynb",
      "provenance": [],
      "collapsed_sections": [],
      "authorship_tag": "ABX9TyN0D7kwAjOzWsW3VCzYGnte",
      "include_colab_link": true
    },
    "kernelspec": {
      "name": "python3",
      "display_name": "Python 3"
    },
    "language_info": {
      "name": "python"
    }
  },
  "cells": [
    {
      "cell_type": "markdown",
      "metadata": {
        "id": "view-in-github",
        "colab_type": "text"
      },
      "source": [
        "<a href=\"https://colab.research.google.com/github/HarrietFlinsch/Linear-Algebra/blob/main/Gram_Schmidt_Process.ipynb\" target=\"_parent\"><img src=\"https://colab.research.google.com/assets/colab-badge.svg\" alt=\"Open In Colab\"/></a>"
      ]
    },
    {
      "cell_type": "code",
      "execution_count": 1,
      "metadata": {
        "id": "4IaGcD_hPzn6"
      },
      "outputs": [],
      "source": [
        "import numpy as np\n",
        "from numpy import c_"
      ]
    },
    {
      "cell_type": "code",
      "source": [
        "# write vectors:\n",
        "r1 = np.array([3., 6., 0])\n",
        "r1\n",
        "#dot product with itself\n",
        "r1.dot(r1)"
      ],
      "metadata": {
        "colab": {
          "base_uri": "https://localhost:8080/"
        },
        "id": "It8RQ6WQQGnI",
        "outputId": "7eb78517-5313-4236-b1f7-317d7adbbe3c"
      },
      "execution_count": 13,
      "outputs": [
        {
          "output_type": "execute_result",
          "data": {
            "text/plain": [
              "45.0"
            ]
          },
          "metadata": {},
          "execution_count": 13
        }
      ]
    },
    {
      "cell_type": "code",
      "source": [
        "np.sqrt(45)"
      ],
      "metadata": {
        "colab": {
          "base_uri": "https://localhost:8080/"
        },
        "id": "CE3X1_y9QdsD",
        "outputId": "9612b044-1651-4478-ce3d-18882827a3a0"
      },
      "execution_count": 14,
      "outputs": [
        {
          "output_type": "execute_result",
          "data": {
            "text/plain": [
              "6.708203932499369"
            ]
          },
          "metadata": {},
          "execution_count": 14
        }
      ]
    },
    {
      "cell_type": "code",
      "source": [
        "print(\"this is the square root of 45:\", np.sqrt(45))"
      ],
      "metadata": {
        "colab": {
          "base_uri": "https://localhost:8080/"
        },
        "id": "PjurL-QRScf-",
        "outputId": "1b96cbb4-3b26-4be2-d762-2712dc2bcb2c"
      },
      "execution_count": 15,
      "outputs": [
        {
          "output_type": "stream",
          "name": "stdout",
          "text": [
            "this is the square root of 45: 6.708203932499369\n"
          ]
        }
      ]
    },
    {
      "cell_type": "code",
      "source": [
        "#Gram Schmidt process using the first vector [3, 6, 0]\n",
        "r1 = np.array([3, 6, 0])\n",
        "print(\"our first messy vector is \", r1)\n",
        "\n",
        "# Temporary vector T1\n",
        "T1 = r1\n",
        "print(\"our T1 vector is \", T1)\n",
        "# Find the magnitude of T1\n",
        "n1 = np.sqrt(T1.dot(T1))\n",
        "print(\"the size of T1 is |T1| = \", n1)\n",
        "#renormalize, and create u1:\n",
        "u1 = (1/n1) * T1\n",
        "print(\"u1 = \", u1)"
      ],
      "metadata": {
        "colab": {
          "base_uri": "https://localhost:8080/"
        },
        "id": "LBI-Jl34SvKn",
        "outputId": "a3169121-8bef-4504-8e17-6c0c2d278b9d"
      },
      "execution_count": 22,
      "outputs": [
        {
          "output_type": "stream",
          "name": "stdout",
          "text": [
            "our first messy vector is  [3 6 0]\n",
            "our T1 vector is  [3 6 0]\n",
            "the size of T1 is |T1| =  6.708203932499369\n",
            "u1 =  [0.4472136  0.89442719 0.        ]\n"
          ]
        }
      ]
    },
    {
      "cell_type": "code",
      "source": [
        "# Gram Schmidt process using the second vector [6, 2, 0]\n",
        "r2 = np.array([6, 2, 0])\n",
        "print(\"our second messy vector is \", r2)\n",
        "\n",
        "#Temporary vector T2\n",
        "T2 = r2 - (r2.dot(u1) )*u1\n",
        "print(\"our T2 vector is \", T2)\n",
        "\n",
        "# Find the magnitude of T2\n",
        "n2 = np.sqrt(T2.dot(T2) )\n",
        "print(\"the size of T2 is |T2| = \", n2)\n",
        "\n",
        "# renormalize and create u2:\n",
        "u2 = (1/n2) * T2\n",
        "print(\"u2 = \", u2)"
      ],
      "metadata": {
        "colab": {
          "base_uri": "https://localhost:8080/"
        },
        "id": "dYdK9-tATGBB",
        "outputId": "5c25c96a-8d3d-42e9-e706-95dbbe24fd5d"
      },
      "execution_count": 28,
      "outputs": [
        {
          "output_type": "stream",
          "name": "stdout",
          "text": [
            "our second messy vector is  [6 2 0]\n",
            "our T2 vector is  [ 4. -2.  0.]\n",
            "the size of T2 is |T2| =  4.47213595499958\n",
            "u2 =  [ 0.89442719 -0.4472136   0.        ]\n"
          ]
        }
      ]
    },
    {
      "cell_type": "code",
      "source": [
        "# Gram Schmidt process using the third vector [-4, 2, 0]\n",
        "r3 = np.array([-4, 2, 0])\n",
        "print(\"our third messy vector is \", r3)\n",
        "\n",
        "#Temporary vector T3\n",
        "T3 = r3 - (r3.dot(u1) )*u1 - (r3.dot(u2) )*u2\n",
        "print(\"our T3 vector is \", T3)\n",
        "\n",
        "# Find the magnitude of T3\n",
        "n3 = np.sqrt(T3.dot(T3) )\n",
        "print(\"the size of T3 is |T3| = \", n3)"
      ],
      "metadata": {
        "colab": {
          "base_uri": "https://localhost:8080/"
        },
        "id": "4oOMWPVSVMwC",
        "outputId": "e84ce7e3-2c6c-4eae-bb83-8a967bb12685"
      },
      "execution_count": 31,
      "outputs": [
        {
          "output_type": "stream",
          "name": "stdout",
          "text": [
            "our third messy vector is  [-4  2  0]\n",
            "our T3 vector is  [-4.4408921e-16 -8.8817842e-16  0.0000000e+00]\n",
            "the size of T3 is |T3| =  9.930136612989092e-16\n"
          ]
        }
      ]
    },
    {
      "cell_type": "code",
      "source": [
        "# Gram Schmidt process using the fourth vector [3, -4, 3]\n",
        "r4 = np.array([3, -4, 3])\n",
        "print(\"our fourth messy vector is \", r4)\n",
        "\n",
        "#Temporary vector T4\n",
        "T4 = r4 - ((r4.dot(u1) )*u1) - ((r4.dot(u2) )*u2)\n",
        "print(\"our T4 vector is \", T4) \n",
        "\n",
        "# Find the magnitude of T4\n",
        "n4 = np.sqrt(T4.dot(T4) )\n",
        "print(\"the size of T4 is |T4| = \", n4)\n",
        "\n",
        "#renormalize and create u4\n",
        "u4 = (1/n4) * T4\n",
        "print(\"u4 = \", u4)"
      ],
      "metadata": {
        "colab": {
          "base_uri": "https://localhost:8080/"
        },
        "id": "SPu6a_r8XHYU",
        "outputId": "737ec2b4-4ac3-4fcd-bd8f-13344a7e8470"
      },
      "execution_count": 37,
      "outputs": [
        {
          "output_type": "stream",
          "name": "stdout",
          "text": [
            "our fourth messy vector is  [ 3 -4  3]\n",
            "our T4 vector is  [4.44089210e-16 1.33226763e-15 3.00000000e+00]\n",
            "the size of T4 is |T4| =  3.0\n",
            "u4 =  [1.48029737e-16 4.44089210e-16 1.00000000e+00]\n"
          ]
        }
      ]
    },
    {
      "cell_type": "code",
      "source": [
        ""
      ],
      "metadata": {
        "id": "UuXeQa9LYJ9o"
      },
      "execution_count": null,
      "outputs": []
    }
  ]
}